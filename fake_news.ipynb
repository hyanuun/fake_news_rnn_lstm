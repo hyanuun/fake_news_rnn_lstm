{
  "nbformat": 4,
  "nbformat_minor": 0,
  "metadata": {
    "colab": {
      "name": "RNN_Both.ipynb",
      "provenance": []
    },
    "kernelspec": {
      "name": "python3",
      "display_name": "Python 3"
    },
    "language_info": {
      "name": "python"
    }
  },
  "cells": [
    {
      "cell_type": "markdown",
      "source": [
        "# Nama : Aini Nur Khasanah\n",
        "# NIM  : 19.11.2595\n",
        "# Kelas : 19-IF01\n",
        "# Mata Kuliah : Data Mining\n",
        "# Dosen Pengampu : Mardhiya Hayaty, S.T, M.Kom \n",
        "# UJIAN AKHIR SEMESTER!\n",
        "# Mendeteksi Fake News Dengan Menggunakan Recurrent Neural Network kombinasi Bidirectional LSTM"
      ],
      "metadata": {
        "id": "uP5bnEGKc_tB"
      }
    },
    {
      "cell_type": "markdown",
      "source": [
        "# **Data Collection**"
      ],
      "metadata": {
        "id": "yx-9x86gwxnd"
      }
    },
    {
      "cell_type": "code",
      "execution_count": null,
      "metadata": {
        "colab": {
          "base_uri": "https://localhost:8080/",
          "height": 354
        },
        "id": "lq-W1TGaE5PM",
        "outputId": "b92b3df9-2395-4251-ffad-5bad70bf482a"
      },
      "outputs": [
        {
          "output_type": "error",
          "ename": "MessageError",
          "evalue": "ignored",
          "traceback": [
            "\u001b[0;31m---------------------------------------------------------------------------\u001b[0m",
            "\u001b[0;31mMessageError\u001b[0m                              Traceback (most recent call last)",
            "\u001b[0;32m<ipython-input-1-fe3b00ddc2a6>\u001b[0m in \u001b[0;36m<module>\u001b[0;34m()\u001b[0m\n\u001b[1;32m      1\u001b[0m \u001b[0;31m# mount / menyambungkan ke drive, karena datasetnya saya letakkan didrive\u001b[0m\u001b[0;34m\u001b[0m\u001b[0;34m\u001b[0m\u001b[0;34m\u001b[0m\u001b[0m\n\u001b[1;32m      2\u001b[0m \u001b[0;32mfrom\u001b[0m \u001b[0mgoogle\u001b[0m\u001b[0;34m.\u001b[0m\u001b[0mcolab\u001b[0m \u001b[0;32mimport\u001b[0m \u001b[0mdrive\u001b[0m\u001b[0;34m\u001b[0m\u001b[0;34m\u001b[0m\u001b[0m\n\u001b[0;32m----> 3\u001b[0;31m \u001b[0mdrive\u001b[0m\u001b[0;34m.\u001b[0m\u001b[0mmount\u001b[0m\u001b[0;34m(\u001b[0m\u001b[0;34m'/content/drive'\u001b[0m\u001b[0;34m)\u001b[0m\u001b[0;34m\u001b[0m\u001b[0;34m\u001b[0m\u001b[0m\n\u001b[0m",
            "\u001b[0;32m/usr/local/lib/python3.7/dist-packages/google/colab/drive.py\u001b[0m in \u001b[0;36mmount\u001b[0;34m(mountpoint, force_remount, timeout_ms)\u001b[0m\n\u001b[1;32m    107\u001b[0m       \u001b[0mforce_remount\u001b[0m\u001b[0;34m=\u001b[0m\u001b[0mforce_remount\u001b[0m\u001b[0;34m,\u001b[0m\u001b[0;34m\u001b[0m\u001b[0;34m\u001b[0m\u001b[0m\n\u001b[1;32m    108\u001b[0m       \u001b[0mtimeout_ms\u001b[0m\u001b[0;34m=\u001b[0m\u001b[0mtimeout_ms\u001b[0m\u001b[0;34m,\u001b[0m\u001b[0;34m\u001b[0m\u001b[0;34m\u001b[0m\u001b[0m\n\u001b[0;32m--> 109\u001b[0;31m       ephemeral=True)\n\u001b[0m\u001b[1;32m    110\u001b[0m \u001b[0;34m\u001b[0m\u001b[0m\n\u001b[1;32m    111\u001b[0m \u001b[0;34m\u001b[0m\u001b[0m\n",
            "\u001b[0;32m/usr/local/lib/python3.7/dist-packages/google/colab/drive.py\u001b[0m in \u001b[0;36m_mount\u001b[0;34m(mountpoint, force_remount, timeout_ms, ephemeral)\u001b[0m\n\u001b[1;32m    122\u001b[0m   \u001b[0;32mif\u001b[0m \u001b[0mephemeral\u001b[0m\u001b[0;34m:\u001b[0m\u001b[0;34m\u001b[0m\u001b[0;34m\u001b[0m\u001b[0m\n\u001b[1;32m    123\u001b[0m     _message.blocking_request(\n\u001b[0;32m--> 124\u001b[0;31m         'request_auth', request={'authType': 'dfs_ephemeral'}, timeout_sec=None)\n\u001b[0m\u001b[1;32m    125\u001b[0m \u001b[0;34m\u001b[0m\u001b[0m\n\u001b[1;32m    126\u001b[0m   \u001b[0mmountpoint\u001b[0m \u001b[0;34m=\u001b[0m \u001b[0m_os\u001b[0m\u001b[0;34m.\u001b[0m\u001b[0mpath\u001b[0m\u001b[0;34m.\u001b[0m\u001b[0mexpanduser\u001b[0m\u001b[0;34m(\u001b[0m\u001b[0mmountpoint\u001b[0m\u001b[0;34m)\u001b[0m\u001b[0;34m\u001b[0m\u001b[0;34m\u001b[0m\u001b[0m\n",
            "\u001b[0;32m/usr/local/lib/python3.7/dist-packages/google/colab/_message.py\u001b[0m in \u001b[0;36mblocking_request\u001b[0;34m(request_type, request, timeout_sec, parent)\u001b[0m\n\u001b[1;32m    173\u001b[0m   request_id = send_request(\n\u001b[1;32m    174\u001b[0m       request_type, request, parent=parent, expect_reply=True)\n\u001b[0;32m--> 175\u001b[0;31m   \u001b[0;32mreturn\u001b[0m \u001b[0mread_reply_from_input\u001b[0m\u001b[0;34m(\u001b[0m\u001b[0mrequest_id\u001b[0m\u001b[0;34m,\u001b[0m \u001b[0mtimeout_sec\u001b[0m\u001b[0;34m)\u001b[0m\u001b[0;34m\u001b[0m\u001b[0;34m\u001b[0m\u001b[0m\n\u001b[0m",
            "\u001b[0;32m/usr/local/lib/python3.7/dist-packages/google/colab/_message.py\u001b[0m in \u001b[0;36mread_reply_from_input\u001b[0;34m(message_id, timeout_sec)\u001b[0m\n\u001b[1;32m    104\u001b[0m         reply.get('colab_msg_id') == message_id):\n\u001b[1;32m    105\u001b[0m       \u001b[0;32mif\u001b[0m \u001b[0;34m'error'\u001b[0m \u001b[0;32min\u001b[0m \u001b[0mreply\u001b[0m\u001b[0;34m:\u001b[0m\u001b[0;34m\u001b[0m\u001b[0;34m\u001b[0m\u001b[0m\n\u001b[0;32m--> 106\u001b[0;31m         \u001b[0;32mraise\u001b[0m \u001b[0mMessageError\u001b[0m\u001b[0;34m(\u001b[0m\u001b[0mreply\u001b[0m\u001b[0;34m[\u001b[0m\u001b[0;34m'error'\u001b[0m\u001b[0;34m]\u001b[0m\u001b[0;34m)\u001b[0m\u001b[0;34m\u001b[0m\u001b[0;34m\u001b[0m\u001b[0m\n\u001b[0m\u001b[1;32m    107\u001b[0m       \u001b[0;32mreturn\u001b[0m \u001b[0mreply\u001b[0m\u001b[0;34m.\u001b[0m\u001b[0mget\u001b[0m\u001b[0;34m(\u001b[0m\u001b[0;34m'data'\u001b[0m\u001b[0;34m,\u001b[0m \u001b[0;32mNone\u001b[0m\u001b[0;34m)\u001b[0m\u001b[0;34m\u001b[0m\u001b[0;34m\u001b[0m\u001b[0m\n\u001b[1;32m    108\u001b[0m \u001b[0;34m\u001b[0m\u001b[0m\n",
            "\u001b[0;31mMessageError\u001b[0m: Error: credential propagation was unsuccessful"
          ]
        }
      ],
      "source": [
        "# mount / menyambungkan ke drive, karena datasetnya saya letakkan didrive\n",
        "from google.colab import drive\n",
        "drive.mount('/content/drive')"
      ]
    },
    {
      "cell_type": "code",
      "source": [
        "# Mengimport Library\n",
        "import numpy as np # linear algebra\n",
        "import pandas as pd # struktur data, alat statistik, dan data processing, CSV file I/O (e.g. pd.read_csv)\n",
        "import tensorflow as tf\n",
        "from tensorflow import keras\n",
        "import matplotlib.pyplot as plt # membuat plot dan grafik 2D"
      ],
      "metadata": {
        "id": "bGeKfFXzFCrr"
      },
      "execution_count": null,
      "outputs": []
    },
    {
      "cell_type": "markdown",
      "source": [
        "READ DATA"
      ],
      "metadata": {
        "id": "KNUuAXfBdqsW"
      }
    },
    {
      "cell_type": "code",
      "source": [
        "#Mengimport Dataset menggunakan pandas\n",
        "true_news = pd.read_csv(\"/content/drive/MyDrive/Colab Notebooks/UAS_2595_Mining/backup/True.csv\")\n",
        "fake_news = pd.read_csv(\"/content/drive/MyDrive/Colab Notebooks/UAS_2595_Mining/backup/Fake.csv\")"
      ],
      "metadata": {
        "id": "wv3EYGi6FEeo"
      },
      "execution_count": null,
      "outputs": []
    },
    {
      "cell_type": "markdown",
      "source": [
        "Menampilkan datanya"
      ],
      "metadata": {
        "id": "QKpKTr04dmO8"
      }
    },
    {
      "cell_type": "code",
      "execution_count": null,
      "metadata": {
        "id": "SdvqOhdwkavl"
      },
      "outputs": [],
      "source": [
        "# menampilkan data true news teratas\n",
        "true_news.head()"
      ]
    },
    {
      "cell_type": "code",
      "source": [
        "# menampilkan data fake news teratas\n",
        "fake_news.head()"
      ],
      "metadata": {
        "id": "FlpvKYmn0eub"
      },
      "execution_count": null,
      "outputs": []
    },
    {
      "cell_type": "markdown",
      "source": [
        "# **Data Cleaning**"
      ],
      "metadata": {
        "id": "sv1otA6Qxd5L"
      }
    },
    {
      "cell_type": "code",
      "source": [
        "# menampilkan bentuk data, jumlah baris dan kolom\n",
        "true_news.shape"
      ],
      "metadata": {
        "id": "z25qVT-gxgaC"
      },
      "execution_count": null,
      "outputs": []
    },
    {
      "cell_type": "code",
      "source": [
        "# menampilkan bentuk data, jumlah baris dan kolom\n",
        "fake_news.shape"
      ],
      "metadata": {
        "id": "fz8JTMKPxld2"
      },
      "execution_count": null,
      "outputs": []
    },
    {
      "cell_type": "code",
      "source": [
        "# mengecek nilai true news yang hilang\n",
        "true_news.apply(lambda x: sum(x.isnull()))"
      ],
      "metadata": {
        "id": "SxZlpsONxwHh"
      },
      "execution_count": null,
      "outputs": []
    },
    {
      "cell_type": "code",
      "source": [
        "# mengecek nilai fake news yang hilang\n",
        "fake_news.apply(lambda x: sum(x.isnull()))"
      ],
      "metadata": {
        "id": "X9yP2O1ox-9P"
      },
      "execution_count": null,
      "outputs": []
    },
    {
      "cell_type": "markdown",
      "source": [
        "Set nilai"
      ],
      "metadata": {
        "id": "hKYSGhc5Bfno"
      }
    },
    {
      "cell_type": "code",
      "source": [
        "# mengeset antara true dan fake\n",
        "fake_news['kelas'] = 0 \n",
        "true_news['kelas'] = 1"
      ],
      "metadata": {
        "id": "N1QWwg-6TDzL"
      },
      "execution_count": null,
      "outputs": []
    },
    {
      "cell_type": "code",
      "source": [
        "# menghilangkan field date dan subject, karena yang dibutuhkan disini hanya title dan text\n",
        "fake_news.drop(['date', 'subject'], axis=1, inplace=True)\n",
        "true_news.drop(['date', 'subject'], axis=1, inplace=True)"
      ],
      "metadata": {
        "id": "WNFAfgPlGgs1"
      },
      "execution_count": null,
      "outputs": []
    },
    {
      "cell_type": "code",
      "source": [
        "# fungsi concat ini untuk menggabungkan dataset, contoh kasus disini ada 2 dataset. Dengan parameter axis 0\n",
        "semua_data = pd.concat([true_news,fake_news],axis=0)"
      ],
      "metadata": {
        "id": "BR7dMWUeTXGG"
      },
      "execution_count": null,
      "outputs": []
    },
    {
      "cell_type": "code",
      "source": [
        "semua_data = semua_data.sample(frac=1).reset_index(drop=True)\n",
        "semua_data"
      ],
      "metadata": {
        "colab": {
          "base_uri": "https://localhost:8080/",
          "height": 424
        },
        "id": "UyyIwQ9dTfkO",
        "outputId": "21221b8b-c444-462f-c198-3613d81f9d3e"
      },
      "execution_count": null,
      "outputs": [
        {
          "output_type": "execute_result",
          "data": {
            "text/html": [
              "\n",
              "  <div id=\"df-58d9a98a-1d91-466b-a3b8-e5ca5d0d25ec\">\n",
              "    <div class=\"colab-df-container\">\n",
              "      <div>\n",
              "<style scoped>\n",
              "    .dataframe tbody tr th:only-of-type {\n",
              "        vertical-align: middle;\n",
              "    }\n",
              "\n",
              "    .dataframe tbody tr th {\n",
              "        vertical-align: top;\n",
              "    }\n",
              "\n",
              "    .dataframe thead th {\n",
              "        text-align: right;\n",
              "    }\n",
              "</style>\n",
              "<table border=\"1\" class=\"dataframe\">\n",
              "  <thead>\n",
              "    <tr style=\"text-align: right;\">\n",
              "      <th></th>\n",
              "      <th>title</th>\n",
              "      <th>text</th>\n",
              "      <th>kelas</th>\n",
              "    </tr>\n",
              "  </thead>\n",
              "  <tbody>\n",
              "    <tr>\n",
              "      <th>0</th>\n",
              "      <td>OUCH! CHUCK TODD HUMILIATES DNC Chair Over Sic...</td>\n",
              "      <td>It s hard to shame someone when they have no s...</td>\n",
              "      <td>0</td>\n",
              "    </tr>\n",
              "    <tr>\n",
              "      <th>1</th>\n",
              "      <td>Highlights: The Trump presidency on February 1...</td>\n",
              "      <td>(Reuters) - Highlights of the day for U.S. Pre...</td>\n",
              "      <td>1</td>\n",
              "    </tr>\n",
              "    <tr>\n",
              "      <th>2</th>\n",
              "      <td>Factbox: Trump to meet with Oklahoma governor,...</td>\n",
              "      <td>(Reuters) - U.S. Republican President-elect Do...</td>\n",
              "      <td>1</td>\n",
              "    </tr>\n",
              "    <tr>\n",
              "      <th>3</th>\n",
              "      <td>South African Supreme Court upholds reinstatin...</td>\n",
              "      <td>BLOEMFONTEIN, South Africa (Reuters) - South A...</td>\n",
              "      <td>1</td>\n",
              "    </tr>\n",
              "    <tr>\n",
              "      <th>4</th>\n",
              "      <td>Leave It To Obama To ROAST Trump For Saying H...</td>\n",
              "      <td>If you haven t noticed, Donald Trump isn t qui...</td>\n",
              "      <td>0</td>\n",
              "    </tr>\n",
              "    <tr>\n",
              "      <th>...</th>\n",
              "      <td>...</td>\n",
              "      <td>...</td>\n",
              "      <td>...</td>\n",
              "    </tr>\n",
              "    <tr>\n",
              "      <th>44893</th>\n",
              "      <td>Bette Midler Weighs In On #CruzSexScandal And...</td>\n",
              "      <td>Bette Midler has made her distaste for the GOP...</td>\n",
              "      <td>0</td>\n",
              "    </tr>\n",
              "    <tr>\n",
              "      <th>44894</th>\n",
              "      <td>UPDATE: BUSTED By The Secret Service…CNN’s Apr...</td>\n",
              "      <td>The Secret Service pushed back on a CNN report...</td>\n",
              "      <td>0</td>\n",
              "    </tr>\n",
              "    <tr>\n",
              "      <th>44895</th>\n",
              "      <td>Trump signs resolution allowing U.S. states to...</td>\n",
              "      <td>WASHINGTON (Reuters) - President Donald Trump ...</td>\n",
              "      <td>1</td>\n",
              "    </tr>\n",
              "    <tr>\n",
              "      <th>44896</th>\n",
              "      <td>OBAMA’S REVEALING LETTER TO BROTHER TELLS WHY ...</td>\n",
              "      <td>Well, it s not like we didn t know this but it...</td>\n",
              "      <td>0</td>\n",
              "    </tr>\n",
              "    <tr>\n",
              "      <th>44897</th>\n",
              "      <td>First Somali Refugee Elected In American Hist...</td>\n",
              "      <td>On November 8, 2016, Ilhan Omar made history a...</td>\n",
              "      <td>0</td>\n",
              "    </tr>\n",
              "  </tbody>\n",
              "</table>\n",
              "<p>44898 rows × 3 columns</p>\n",
              "</div>\n",
              "      <button class=\"colab-df-convert\" onclick=\"convertToInteractive('df-58d9a98a-1d91-466b-a3b8-e5ca5d0d25ec')\"\n",
              "              title=\"Convert this dataframe to an interactive table.\"\n",
              "              style=\"display:none;\">\n",
              "        \n",
              "  <svg xmlns=\"http://www.w3.org/2000/svg\" height=\"24px\"viewBox=\"0 0 24 24\"\n",
              "       width=\"24px\">\n",
              "    <path d=\"M0 0h24v24H0V0z\" fill=\"none\"/>\n",
              "    <path d=\"M18.56 5.44l.94 2.06.94-2.06 2.06-.94-2.06-.94-.94-2.06-.94 2.06-2.06.94zm-11 1L8.5 8.5l.94-2.06 2.06-.94-2.06-.94L8.5 2.5l-.94 2.06-2.06.94zm10 10l.94 2.06.94-2.06 2.06-.94-2.06-.94-.94-2.06-.94 2.06-2.06.94z\"/><path d=\"M17.41 7.96l-1.37-1.37c-.4-.4-.92-.59-1.43-.59-.52 0-1.04.2-1.43.59L10.3 9.45l-7.72 7.72c-.78.78-.78 2.05 0 2.83L4 21.41c.39.39.9.59 1.41.59.51 0 1.02-.2 1.41-.59l7.78-7.78 2.81-2.81c.8-.78.8-2.07 0-2.86zM5.41 20L4 18.59l7.72-7.72 1.47 1.35L5.41 20z\"/>\n",
              "  </svg>\n",
              "      </button>\n",
              "      \n",
              "  <style>\n",
              "    .colab-df-container {\n",
              "      display:flex;\n",
              "      flex-wrap:wrap;\n",
              "      gap: 12px;\n",
              "    }\n",
              "\n",
              "    .colab-df-convert {\n",
              "      background-color: #E8F0FE;\n",
              "      border: none;\n",
              "      border-radius: 50%;\n",
              "      cursor: pointer;\n",
              "      display: none;\n",
              "      fill: #1967D2;\n",
              "      height: 32px;\n",
              "      padding: 0 0 0 0;\n",
              "      width: 32px;\n",
              "    }\n",
              "\n",
              "    .colab-df-convert:hover {\n",
              "      background-color: #E2EBFA;\n",
              "      box-shadow: 0px 1px 2px rgba(60, 64, 67, 0.3), 0px 1px 3px 1px rgba(60, 64, 67, 0.15);\n",
              "      fill: #174EA6;\n",
              "    }\n",
              "\n",
              "    [theme=dark] .colab-df-convert {\n",
              "      background-color: #3B4455;\n",
              "      fill: #D2E3FC;\n",
              "    }\n",
              "\n",
              "    [theme=dark] .colab-df-convert:hover {\n",
              "      background-color: #434B5C;\n",
              "      box-shadow: 0px 1px 3px 1px rgba(0, 0, 0, 0.15);\n",
              "      filter: drop-shadow(0px 1px 2px rgba(0, 0, 0, 0.3));\n",
              "      fill: #FFFFFF;\n",
              "    }\n",
              "  </style>\n",
              "\n",
              "      <script>\n",
              "        const buttonEl =\n",
              "          document.querySelector('#df-58d9a98a-1d91-466b-a3b8-e5ca5d0d25ec button.colab-df-convert');\n",
              "        buttonEl.style.display =\n",
              "          google.colab.kernel.accessAllowed ? 'block' : 'none';\n",
              "\n",
              "        async function convertToInteractive(key) {\n",
              "          const element = document.querySelector('#df-58d9a98a-1d91-466b-a3b8-e5ca5d0d25ec');\n",
              "          const dataTable =\n",
              "            await google.colab.kernel.invokeFunction('convertToInteractive',\n",
              "                                                     [key], {});\n",
              "          if (!dataTable) return;\n",
              "\n",
              "          const docLinkHtml = 'Like what you see? Visit the ' +\n",
              "            '<a target=\"_blank\" href=https://colab.research.google.com/notebooks/data_table.ipynb>data table notebook</a>'\n",
              "            + ' to learn more about interactive tables.';\n",
              "          element.innerHTML = '';\n",
              "          dataTable['output_type'] = 'display_data';\n",
              "          await google.colab.output.renderOutput(dataTable, element);\n",
              "          const docLink = document.createElement('div');\n",
              "          docLink.innerHTML = docLinkHtml;\n",
              "          element.appendChild(docLink);\n",
              "        }\n",
              "      </script>\n",
              "    </div>\n",
              "  </div>\n",
              "  "
            ],
            "text/plain": [
              "                                                   title  ... kelas\n",
              "0      OUCH! CHUCK TODD HUMILIATES DNC Chair Over Sic...  ...     0\n",
              "1      Highlights: The Trump presidency on February 1...  ...     1\n",
              "2      Factbox: Trump to meet with Oklahoma governor,...  ...     1\n",
              "3      South African Supreme Court upholds reinstatin...  ...     1\n",
              "4       Leave It To Obama To ROAST Trump For Saying H...  ...     0\n",
              "...                                                  ...  ...   ...\n",
              "44893   Bette Midler Weighs In On #CruzSexScandal And...  ...     0\n",
              "44894  UPDATE: BUSTED By The Secret Service…CNN’s Apr...  ...     0\n",
              "44895  Trump signs resolution allowing U.S. states to...  ...     1\n",
              "44896  OBAMA’S REVEALING LETTER TO BROTHER TELLS WHY ...  ...     0\n",
              "44897   First Somali Refugee Elected In American Hist...  ...     0\n",
              "\n",
              "[44898 rows x 3 columns]"
            ]
          },
          "metadata": {},
          "execution_count": 37
        }
      ]
    },
    {
      "cell_type": "code",
      "source": [
        "semua_data.title[1]"
      ],
      "metadata": {
        "colab": {
          "base_uri": "https://localhost:8080/",
          "height": 35
        },
        "id": "fezaee78ToIm",
        "outputId": "0f82c5d9-b468-4b58-d1f8-f80adab51549"
      },
      "execution_count": null,
      "outputs": [
        {
          "output_type": "execute_result",
          "data": {
            "application/vnd.google.colaboratory.intrinsic+json": {
              "type": "string"
            },
            "text/plain": [
              "'Highlights: The Trump presidency on February 1 at 7:44 P.M. EST/1244 GMT'"
            ]
          },
          "metadata": {},
          "execution_count": 38
        }
      ]
    },
    {
      "cell_type": "code",
      "source": [
        "semua_data.text[1]"
      ],
      "metadata": {
        "colab": {
          "base_uri": "https://localhost:8080/",
          "height": 140
        },
        "id": "EDusiJWBTyAk",
        "outputId": "a562c1fe-4535-45b7-dc55-96aab9770f4c"
      },
      "execution_count": null,
      "outputs": [
        {
          "output_type": "execute_result",
          "data": {
            "application/vnd.google.colaboratory.intrinsic+json": {
              "type": "string"
            },
            "text/plain": [
              "'(Reuters) - Highlights of the day for U.S. President Donald Trump’s administration on Wednesday: Trump urges Senate Republicans to “go nuclear” and impose a rule change to force a simple majority vote toward confirmation if Democrats block his U.S. Supreme Court nominee. Public refusals by two U.S. Senate Republicans to support Betsy DeVos, Trump’s pick for education secretary, raise the possibility of a rare congressional rejection of a Cabinet nominee. The Senate confirms Rex Tillerson as secretary of state despite concerns over his ties to Russia, while committees approve Jeff Sessions, one of Trump’s most controversial Cabinet selections, as attorney general, as well as two other nominees. Evangelical Christian leader Jerry Falwell Jr. will head an education reform task force under Trump and is eager to cut university regulations, including rules on dealing with campus sexual assault. The White House puts Iran “on notice” for test-firing a ballistic missile and says it is reviewing how to respond, abruptly adopting an aggressive posture toward Tehran that could raise tensions in the region. Defense Secretary James Mattis is expected to underscore security commitments to South Korea and Japan on his debut trip to Asia this week as concerns mount over North Korea’s missile program and tensions with China. Tillerson sees his job become harder before it even begins because of administration moves that have antagonized Muslim nations, European allies, Mexico and U.S. bureaucrats. The Trump administration wants to revamp and rename a U.S. government program designed to counter all violent ideologies so that it focuses solely on Islamist extremism, five people briefed on the matter tell Reuters. Trump pays his respects to a U.S. Navy SEAL who died in a raid on al Qaeda in Yemen that went wrong, the first military operation authorized by Trump as commander in chief. Trump will likely face questions about his executive order restricting some travel to the United States when he meets with the CEOs of major U.S. companies at the White House on Friday. U.N. human rights experts warn that asylum seekers could face torture if not given haven and the Vatican calls for  openness to other cultures, adding to a drumbeat of criticism of Trump’s travel curbs. Trump lashes out at one of his favorite targets for derision - the news media - complaining to a group of his supporters attending a Black History Month session that most reporters who cover him are a “disgrace.” '"
            ]
          },
          "metadata": {},
          "execution_count": 39
        }
      ]
    },
    {
      "cell_type": "code",
      "source": [
        "semua_data.head()"
      ],
      "metadata": {
        "colab": {
          "base_uri": "https://localhost:8080/",
          "height": 206
        },
        "id": "swY8ev6CUZL2",
        "outputId": "70522802-6458-448f-8091-3898dada23d4"
      },
      "execution_count": null,
      "outputs": [
        {
          "output_type": "execute_result",
          "data": {
            "text/html": [
              "\n",
              "  <div id=\"df-7f8a62ba-04e2-45b2-8371-dd88e2008c23\">\n",
              "    <div class=\"colab-df-container\">\n",
              "      <div>\n",
              "<style scoped>\n",
              "    .dataframe tbody tr th:only-of-type {\n",
              "        vertical-align: middle;\n",
              "    }\n",
              "\n",
              "    .dataframe tbody tr th {\n",
              "        vertical-align: top;\n",
              "    }\n",
              "\n",
              "    .dataframe thead th {\n",
              "        text-align: right;\n",
              "    }\n",
              "</style>\n",
              "<table border=\"1\" class=\"dataframe\">\n",
              "  <thead>\n",
              "    <tr style=\"text-align: right;\">\n",
              "      <th></th>\n",
              "      <th>title</th>\n",
              "      <th>text</th>\n",
              "      <th>kelas</th>\n",
              "    </tr>\n",
              "  </thead>\n",
              "  <tbody>\n",
              "    <tr>\n",
              "      <th>0</th>\n",
              "      <td>OUCH! CHUCK TODD HUMILIATES DNC Chair Over Sic...</td>\n",
              "      <td>It s hard to shame someone when they have no s...</td>\n",
              "      <td>0</td>\n",
              "    </tr>\n",
              "    <tr>\n",
              "      <th>1</th>\n",
              "      <td>Highlights: The Trump presidency on February 1...</td>\n",
              "      <td>(Reuters) - Highlights of the day for U.S. Pre...</td>\n",
              "      <td>1</td>\n",
              "    </tr>\n",
              "    <tr>\n",
              "      <th>2</th>\n",
              "      <td>Factbox: Trump to meet with Oklahoma governor,...</td>\n",
              "      <td>(Reuters) - U.S. Republican President-elect Do...</td>\n",
              "      <td>1</td>\n",
              "    </tr>\n",
              "    <tr>\n",
              "      <th>3</th>\n",
              "      <td>South African Supreme Court upholds reinstatin...</td>\n",
              "      <td>BLOEMFONTEIN, South Africa (Reuters) - South A...</td>\n",
              "      <td>1</td>\n",
              "    </tr>\n",
              "    <tr>\n",
              "      <th>4</th>\n",
              "      <td>Leave It To Obama To ROAST Trump For Saying H...</td>\n",
              "      <td>If you haven t noticed, Donald Trump isn t qui...</td>\n",
              "      <td>0</td>\n",
              "    </tr>\n",
              "  </tbody>\n",
              "</table>\n",
              "</div>\n",
              "      <button class=\"colab-df-convert\" onclick=\"convertToInteractive('df-7f8a62ba-04e2-45b2-8371-dd88e2008c23')\"\n",
              "              title=\"Convert this dataframe to an interactive table.\"\n",
              "              style=\"display:none;\">\n",
              "        \n",
              "  <svg xmlns=\"http://www.w3.org/2000/svg\" height=\"24px\"viewBox=\"0 0 24 24\"\n",
              "       width=\"24px\">\n",
              "    <path d=\"M0 0h24v24H0V0z\" fill=\"none\"/>\n",
              "    <path d=\"M18.56 5.44l.94 2.06.94-2.06 2.06-.94-2.06-.94-.94-2.06-.94 2.06-2.06.94zm-11 1L8.5 8.5l.94-2.06 2.06-.94-2.06-.94L8.5 2.5l-.94 2.06-2.06.94zm10 10l.94 2.06.94-2.06 2.06-.94-2.06-.94-.94-2.06-.94 2.06-2.06.94z\"/><path d=\"M17.41 7.96l-1.37-1.37c-.4-.4-.92-.59-1.43-.59-.52 0-1.04.2-1.43.59L10.3 9.45l-7.72 7.72c-.78.78-.78 2.05 0 2.83L4 21.41c.39.39.9.59 1.41.59.51 0 1.02-.2 1.41-.59l7.78-7.78 2.81-2.81c.8-.78.8-2.07 0-2.86zM5.41 20L4 18.59l7.72-7.72 1.47 1.35L5.41 20z\"/>\n",
              "  </svg>\n",
              "      </button>\n",
              "      \n",
              "  <style>\n",
              "    .colab-df-container {\n",
              "      display:flex;\n",
              "      flex-wrap:wrap;\n",
              "      gap: 12px;\n",
              "    }\n",
              "\n",
              "    .colab-df-convert {\n",
              "      background-color: #E8F0FE;\n",
              "      border: none;\n",
              "      border-radius: 50%;\n",
              "      cursor: pointer;\n",
              "      display: none;\n",
              "      fill: #1967D2;\n",
              "      height: 32px;\n",
              "      padding: 0 0 0 0;\n",
              "      width: 32px;\n",
              "    }\n",
              "\n",
              "    .colab-df-convert:hover {\n",
              "      background-color: #E2EBFA;\n",
              "      box-shadow: 0px 1px 2px rgba(60, 64, 67, 0.3), 0px 1px 3px 1px rgba(60, 64, 67, 0.15);\n",
              "      fill: #174EA6;\n",
              "    }\n",
              "\n",
              "    [theme=dark] .colab-df-convert {\n",
              "      background-color: #3B4455;\n",
              "      fill: #D2E3FC;\n",
              "    }\n",
              "\n",
              "    [theme=dark] .colab-df-convert:hover {\n",
              "      background-color: #434B5C;\n",
              "      box-shadow: 0px 1px 3px 1px rgba(0, 0, 0, 0.15);\n",
              "      filter: drop-shadow(0px 1px 2px rgba(0, 0, 0, 0.3));\n",
              "      fill: #FFFFFF;\n",
              "    }\n",
              "  </style>\n",
              "\n",
              "      <script>\n",
              "        const buttonEl =\n",
              "          document.querySelector('#df-7f8a62ba-04e2-45b2-8371-dd88e2008c23 button.colab-df-convert');\n",
              "        buttonEl.style.display =\n",
              "          google.colab.kernel.accessAllowed ? 'block' : 'none';\n",
              "\n",
              "        async function convertToInteractive(key) {\n",
              "          const element = document.querySelector('#df-7f8a62ba-04e2-45b2-8371-dd88e2008c23');\n",
              "          const dataTable =\n",
              "            await google.colab.kernel.invokeFunction('convertToInteractive',\n",
              "                                                     [key], {});\n",
              "          if (!dataTable) return;\n",
              "\n",
              "          const docLinkHtml = 'Like what you see? Visit the ' +\n",
              "            '<a target=\"_blank\" href=https://colab.research.google.com/notebooks/data_table.ipynb>data table notebook</a>'\n",
              "            + ' to learn more about interactive tables.';\n",
              "          element.innerHTML = '';\n",
              "          dataTable['output_type'] = 'display_data';\n",
              "          await google.colab.output.renderOutput(dataTable, element);\n",
              "          const docLink = document.createElement('div');\n",
              "          docLink.innerHTML = docLinkHtml;\n",
              "          element.appendChild(docLink);\n",
              "        }\n",
              "      </script>\n",
              "    </div>\n",
              "  </div>\n",
              "  "
            ],
            "text/plain": [
              "                                               title  ... kelas\n",
              "0  OUCH! CHUCK TODD HUMILIATES DNC Chair Over Sic...  ...     0\n",
              "1  Highlights: The Trump presidency on February 1...  ...     1\n",
              "2  Factbox: Trump to meet with Oklahoma governor,...  ...     1\n",
              "3  South African Supreme Court upholds reinstatin...  ...     1\n",
              "4   Leave It To Obama To ROAST Trump For Saying H...  ...     0\n",
              "\n",
              "[5 rows x 3 columns]"
            ]
          },
          "metadata": {},
          "execution_count": 40
        }
      ]
    },
    {
      "cell_type": "code",
      "source": [
        "semua_data.tail()"
      ],
      "metadata": {
        "colab": {
          "base_uri": "https://localhost:8080/",
          "height": 206
        },
        "id": "0Ogl3zsjUTPX",
        "outputId": "62ae3a6e-9f31-42c5-e360-aed3f0b0dcae"
      },
      "execution_count": null,
      "outputs": [
        {
          "output_type": "execute_result",
          "data": {
            "text/html": [
              "\n",
              "  <div id=\"df-da5f4186-166d-44e9-830c-3fa30e1e8788\">\n",
              "    <div class=\"colab-df-container\">\n",
              "      <div>\n",
              "<style scoped>\n",
              "    .dataframe tbody tr th:only-of-type {\n",
              "        vertical-align: middle;\n",
              "    }\n",
              "\n",
              "    .dataframe tbody tr th {\n",
              "        vertical-align: top;\n",
              "    }\n",
              "\n",
              "    .dataframe thead th {\n",
              "        text-align: right;\n",
              "    }\n",
              "</style>\n",
              "<table border=\"1\" class=\"dataframe\">\n",
              "  <thead>\n",
              "    <tr style=\"text-align: right;\">\n",
              "      <th></th>\n",
              "      <th>title</th>\n",
              "      <th>text</th>\n",
              "      <th>kelas</th>\n",
              "    </tr>\n",
              "  </thead>\n",
              "  <tbody>\n",
              "    <tr>\n",
              "      <th>44893</th>\n",
              "      <td>Bette Midler Weighs In On #CruzSexScandal And...</td>\n",
              "      <td>Bette Midler has made her distaste for the GOP...</td>\n",
              "      <td>0</td>\n",
              "    </tr>\n",
              "    <tr>\n",
              "      <th>44894</th>\n",
              "      <td>UPDATE: BUSTED By The Secret Service…CNN’s Apr...</td>\n",
              "      <td>The Secret Service pushed back on a CNN report...</td>\n",
              "      <td>0</td>\n",
              "    </tr>\n",
              "    <tr>\n",
              "      <th>44895</th>\n",
              "      <td>Trump signs resolution allowing U.S. states to...</td>\n",
              "      <td>WASHINGTON (Reuters) - President Donald Trump ...</td>\n",
              "      <td>1</td>\n",
              "    </tr>\n",
              "    <tr>\n",
              "      <th>44896</th>\n",
              "      <td>OBAMA’S REVEALING LETTER TO BROTHER TELLS WHY ...</td>\n",
              "      <td>Well, it s not like we didn t know this but it...</td>\n",
              "      <td>0</td>\n",
              "    </tr>\n",
              "    <tr>\n",
              "      <th>44897</th>\n",
              "      <td>First Somali Refugee Elected In American Hist...</td>\n",
              "      <td>On November 8, 2016, Ilhan Omar made history a...</td>\n",
              "      <td>0</td>\n",
              "    </tr>\n",
              "  </tbody>\n",
              "</table>\n",
              "</div>\n",
              "      <button class=\"colab-df-convert\" onclick=\"convertToInteractive('df-da5f4186-166d-44e9-830c-3fa30e1e8788')\"\n",
              "              title=\"Convert this dataframe to an interactive table.\"\n",
              "              style=\"display:none;\">\n",
              "        \n",
              "  <svg xmlns=\"http://www.w3.org/2000/svg\" height=\"24px\"viewBox=\"0 0 24 24\"\n",
              "       width=\"24px\">\n",
              "    <path d=\"M0 0h24v24H0V0z\" fill=\"none\"/>\n",
              "    <path d=\"M18.56 5.44l.94 2.06.94-2.06 2.06-.94-2.06-.94-.94-2.06-.94 2.06-2.06.94zm-11 1L8.5 8.5l.94-2.06 2.06-.94-2.06-.94L8.5 2.5l-.94 2.06-2.06.94zm10 10l.94 2.06.94-2.06 2.06-.94-2.06-.94-.94-2.06-.94 2.06-2.06.94z\"/><path d=\"M17.41 7.96l-1.37-1.37c-.4-.4-.92-.59-1.43-.59-.52 0-1.04.2-1.43.59L10.3 9.45l-7.72 7.72c-.78.78-.78 2.05 0 2.83L4 21.41c.39.39.9.59 1.41.59.51 0 1.02-.2 1.41-.59l7.78-7.78 2.81-2.81c.8-.78.8-2.07 0-2.86zM5.41 20L4 18.59l7.72-7.72 1.47 1.35L5.41 20z\"/>\n",
              "  </svg>\n",
              "      </button>\n",
              "      \n",
              "  <style>\n",
              "    .colab-df-container {\n",
              "      display:flex;\n",
              "      flex-wrap:wrap;\n",
              "      gap: 12px;\n",
              "    }\n",
              "\n",
              "    .colab-df-convert {\n",
              "      background-color: #E8F0FE;\n",
              "      border: none;\n",
              "      border-radius: 50%;\n",
              "      cursor: pointer;\n",
              "      display: none;\n",
              "      fill: #1967D2;\n",
              "      height: 32px;\n",
              "      padding: 0 0 0 0;\n",
              "      width: 32px;\n",
              "    }\n",
              "\n",
              "    .colab-df-convert:hover {\n",
              "      background-color: #E2EBFA;\n",
              "      box-shadow: 0px 1px 2px rgba(60, 64, 67, 0.3), 0px 1px 3px 1px rgba(60, 64, 67, 0.15);\n",
              "      fill: #174EA6;\n",
              "    }\n",
              "\n",
              "    [theme=dark] .colab-df-convert {\n",
              "      background-color: #3B4455;\n",
              "      fill: #D2E3FC;\n",
              "    }\n",
              "\n",
              "    [theme=dark] .colab-df-convert:hover {\n",
              "      background-color: #434B5C;\n",
              "      box-shadow: 0px 1px 3px 1px rgba(0, 0, 0, 0.15);\n",
              "      filter: drop-shadow(0px 1px 2px rgba(0, 0, 0, 0.3));\n",
              "      fill: #FFFFFF;\n",
              "    }\n",
              "  </style>\n",
              "\n",
              "      <script>\n",
              "        const buttonEl =\n",
              "          document.querySelector('#df-da5f4186-166d-44e9-830c-3fa30e1e8788 button.colab-df-convert');\n",
              "        buttonEl.style.display =\n",
              "          google.colab.kernel.accessAllowed ? 'block' : 'none';\n",
              "\n",
              "        async function convertToInteractive(key) {\n",
              "          const element = document.querySelector('#df-da5f4186-166d-44e9-830c-3fa30e1e8788');\n",
              "          const dataTable =\n",
              "            await google.colab.kernel.invokeFunction('convertToInteractive',\n",
              "                                                     [key], {});\n",
              "          if (!dataTable) return;\n",
              "\n",
              "          const docLinkHtml = 'Like what you see? Visit the ' +\n",
              "            '<a target=\"_blank\" href=https://colab.research.google.com/notebooks/data_table.ipynb>data table notebook</a>'\n",
              "            + ' to learn more about interactive tables.';\n",
              "          element.innerHTML = '';\n",
              "          dataTable['output_type'] = 'display_data';\n",
              "          await google.colab.output.renderOutput(dataTable, element);\n",
              "          const docLink = document.createElement('div');\n",
              "          docLink.innerHTML = docLinkHtml;\n",
              "          element.appendChild(docLink);\n",
              "        }\n",
              "      </script>\n",
              "    </div>\n",
              "  </div>\n",
              "  "
            ],
            "text/plain": [
              "                                                   title  ... kelas\n",
              "44893   Bette Midler Weighs In On #CruzSexScandal And...  ...     0\n",
              "44894  UPDATE: BUSTED By The Secret Service…CNN’s Apr...  ...     0\n",
              "44895  Trump signs resolution allowing U.S. states to...  ...     1\n",
              "44896  OBAMA’S REVEALING LETTER TO BROTHER TELLS WHY ...  ...     0\n",
              "44897   First Somali Refugee Elected In American Hist...  ...     0\n",
              "\n",
              "[5 rows x 3 columns]"
            ]
          },
          "metadata": {},
          "execution_count": 41
        }
      ]
    },
    {
      "cell_type": "code",
      "source": [
        "# mengkombinasikan kolom title dan text menjadi 1 kolom dengan nama text\n",
        "semua_data['text'] = semua_data['title'] + semua_data['text']\n",
        "semua_data.drop('title', axis=1, inplace=True)"
      ],
      "metadata": {
        "id": "k7ebnn1JIQtY"
      },
      "execution_count": null,
      "outputs": []
    },
    {
      "cell_type": "code",
      "source": [
        "semua_data.head()"
      ],
      "metadata": {
        "colab": {
          "base_uri": "https://localhost:8080/",
          "height": 206
        },
        "id": "MhHhEOvAOzUA",
        "outputId": "8db738c6-8c34-4aad-8a97-7bdac1ecc8d3"
      },
      "execution_count": null,
      "outputs": [
        {
          "output_type": "execute_result",
          "data": {
            "text/html": [
              "\n",
              "  <div id=\"df-8459202f-be6c-454d-a578-05bec62423f9\">\n",
              "    <div class=\"colab-df-container\">\n",
              "      <div>\n",
              "<style scoped>\n",
              "    .dataframe tbody tr th:only-of-type {\n",
              "        vertical-align: middle;\n",
              "    }\n",
              "\n",
              "    .dataframe tbody tr th {\n",
              "        vertical-align: top;\n",
              "    }\n",
              "\n",
              "    .dataframe thead th {\n",
              "        text-align: right;\n",
              "    }\n",
              "</style>\n",
              "<table border=\"1\" class=\"dataframe\">\n",
              "  <thead>\n",
              "    <tr style=\"text-align: right;\">\n",
              "      <th></th>\n",
              "      <th>text</th>\n",
              "      <th>kelas</th>\n",
              "    </tr>\n",
              "  </thead>\n",
              "  <tbody>\n",
              "    <tr>\n",
              "      <th>0</th>\n",
              "      <td>OUCH! CHUCK TODD HUMILIATES DNC Chair Over Sic...</td>\n",
              "      <td>0</td>\n",
              "    </tr>\n",
              "    <tr>\n",
              "      <th>1</th>\n",
              "      <td>Highlights: The Trump presidency on February 1...</td>\n",
              "      <td>1</td>\n",
              "    </tr>\n",
              "    <tr>\n",
              "      <th>2</th>\n",
              "      <td>Factbox: Trump to meet with Oklahoma governor,...</td>\n",
              "      <td>1</td>\n",
              "    </tr>\n",
              "    <tr>\n",
              "      <th>3</th>\n",
              "      <td>South African Supreme Court upholds reinstatin...</td>\n",
              "      <td>1</td>\n",
              "    </tr>\n",
              "    <tr>\n",
              "      <th>4</th>\n",
              "      <td>Leave It To Obama To ROAST Trump For Saying H...</td>\n",
              "      <td>0</td>\n",
              "    </tr>\n",
              "  </tbody>\n",
              "</table>\n",
              "</div>\n",
              "      <button class=\"colab-df-convert\" onclick=\"convertToInteractive('df-8459202f-be6c-454d-a578-05bec62423f9')\"\n",
              "              title=\"Convert this dataframe to an interactive table.\"\n",
              "              style=\"display:none;\">\n",
              "        \n",
              "  <svg xmlns=\"http://www.w3.org/2000/svg\" height=\"24px\"viewBox=\"0 0 24 24\"\n",
              "       width=\"24px\">\n",
              "    <path d=\"M0 0h24v24H0V0z\" fill=\"none\"/>\n",
              "    <path d=\"M18.56 5.44l.94 2.06.94-2.06 2.06-.94-2.06-.94-.94-2.06-.94 2.06-2.06.94zm-11 1L8.5 8.5l.94-2.06 2.06-.94-2.06-.94L8.5 2.5l-.94 2.06-2.06.94zm10 10l.94 2.06.94-2.06 2.06-.94-2.06-.94-.94-2.06-.94 2.06-2.06.94z\"/><path d=\"M17.41 7.96l-1.37-1.37c-.4-.4-.92-.59-1.43-.59-.52 0-1.04.2-1.43.59L10.3 9.45l-7.72 7.72c-.78.78-.78 2.05 0 2.83L4 21.41c.39.39.9.59 1.41.59.51 0 1.02-.2 1.41-.59l7.78-7.78 2.81-2.81c.8-.78.8-2.07 0-2.86zM5.41 20L4 18.59l7.72-7.72 1.47 1.35L5.41 20z\"/>\n",
              "  </svg>\n",
              "      </button>\n",
              "      \n",
              "  <style>\n",
              "    .colab-df-container {\n",
              "      display:flex;\n",
              "      flex-wrap:wrap;\n",
              "      gap: 12px;\n",
              "    }\n",
              "\n",
              "    .colab-df-convert {\n",
              "      background-color: #E8F0FE;\n",
              "      border: none;\n",
              "      border-radius: 50%;\n",
              "      cursor: pointer;\n",
              "      display: none;\n",
              "      fill: #1967D2;\n",
              "      height: 32px;\n",
              "      padding: 0 0 0 0;\n",
              "      width: 32px;\n",
              "    }\n",
              "\n",
              "    .colab-df-convert:hover {\n",
              "      background-color: #E2EBFA;\n",
              "      box-shadow: 0px 1px 2px rgba(60, 64, 67, 0.3), 0px 1px 3px 1px rgba(60, 64, 67, 0.15);\n",
              "      fill: #174EA6;\n",
              "    }\n",
              "\n",
              "    [theme=dark] .colab-df-convert {\n",
              "      background-color: #3B4455;\n",
              "      fill: #D2E3FC;\n",
              "    }\n",
              "\n",
              "    [theme=dark] .colab-df-convert:hover {\n",
              "      background-color: #434B5C;\n",
              "      box-shadow: 0px 1px 3px 1px rgba(0, 0, 0, 0.15);\n",
              "      filter: drop-shadow(0px 1px 2px rgba(0, 0, 0, 0.3));\n",
              "      fill: #FFFFFF;\n",
              "    }\n",
              "  </style>\n",
              "\n",
              "      <script>\n",
              "        const buttonEl =\n",
              "          document.querySelector('#df-8459202f-be6c-454d-a578-05bec62423f9 button.colab-df-convert');\n",
              "        buttonEl.style.display =\n",
              "          google.colab.kernel.accessAllowed ? 'block' : 'none';\n",
              "\n",
              "        async function convertToInteractive(key) {\n",
              "          const element = document.querySelector('#df-8459202f-be6c-454d-a578-05bec62423f9');\n",
              "          const dataTable =\n",
              "            await google.colab.kernel.invokeFunction('convertToInteractive',\n",
              "                                                     [key], {});\n",
              "          if (!dataTable) return;\n",
              "\n",
              "          const docLinkHtml = 'Like what you see? Visit the ' +\n",
              "            '<a target=\"_blank\" href=https://colab.research.google.com/notebooks/data_table.ipynb>data table notebook</a>'\n",
              "            + ' to learn more about interactive tables.';\n",
              "          element.innerHTML = '';\n",
              "          dataTable['output_type'] = 'display_data';\n",
              "          await google.colab.output.renderOutput(dataTable, element);\n",
              "          const docLink = document.createElement('div');\n",
              "          docLink.innerHTML = docLinkHtml;\n",
              "          element.appendChild(docLink);\n",
              "        }\n",
              "      </script>\n",
              "    </div>\n",
              "  </div>\n",
              "  "
            ],
            "text/plain": [
              "                                                text  kelas\n",
              "0  OUCH! CHUCK TODD HUMILIATES DNC Chair Over Sic...      0\n",
              "1  Highlights: The Trump presidency on February 1...      1\n",
              "2  Factbox: Trump to meet with Oklahoma governor,...      1\n",
              "3  South African Supreme Court upholds reinstatin...      1\n",
              "4   Leave It To Obama To ROAST Trump For Saying H...      0"
            ]
          },
          "metadata": {},
          "execution_count": 43
        }
      ]
    },
    {
      "cell_type": "markdown",
      "source": [
        "**Menemukan Fake News Berdasarkan Judul Dan Text**"
      ],
      "metadata": {
        "id": "GIoiQ3Q-TRyK"
      }
    },
    {
      "cell_type": "markdown",
      "source": [
        "Processing data"
      ],
      "metadata": {
        "id": "Dyz5WuR1W-XW"
      }
    },
    {
      "cell_type": "code",
      "source": [
        "x_data = semua_data.text[:10000]\n",
        "y_data = semua_data.kelas[:10000]"
      ],
      "metadata": {
        "id": "bPtR75J1I9mb"
      },
      "execution_count": null,
      "outputs": []
    },
    {
      "cell_type": "code",
      "source": [
        "\n",
        "num_words = 10000\n",
        "max_len= 500"
      ],
      "metadata": {
        "id": "ov7WOm4HVQam"
      },
      "execution_count": null,
      "outputs": []
    },
    {
      "cell_type": "code",
      "source": [
        "# membuat objek tokenizer\n",
        "tokenizer = tf.keras.preprocessing.text.Tokenizer(num_words=num_words+1)\n",
        "# melatih tokenizer untuk teks\n",
        "tokenizer.fit_on_texts(x_data)\n",
        "# convert list string ke list bilangan bulat\n",
        "sequences_x_data = tokenizer.texts_to_sequences(x_data)\n",
        "padded_x_data = tf.keras.preprocessing.sequence.pad_sequences(sequences_x_data, maxlen=500, padding=\"post\", truncating=\"post\")"
      ],
      "metadata": {
        "id": "Xy-eDFW9NobS"
      },
      "execution_count": null,
      "outputs": []
    },
    {
      "cell_type": "code",
      "source": [
        "from sklearn.model_selection import train_test_split\n",
        "X_train,X_val,y_train,y_val = train_test_split(padded_x_data,np.array(y_data),test_size=0.2)"
      ],
      "metadata": {
        "id": "SuJlTN66SiEJ"
      },
      "execution_count": null,
      "outputs": []
    },
    {
      "cell_type": "markdown",
      "source": [
        "Modeling"
      ],
      "metadata": {
        "id": "40F338KGRUW_"
      }
    },
    {
      "cell_type": "code",
      "source": [
        "# Embedding layer\n",
        "model_data = keras.Sequential([keras.layers.Embedding(num_words+1,16,input_length=max_len),\n",
        "                               keras.layers.Bidirectional(keras.layers.LSTM(64)), # membuat LSTM bidirectional\n",
        "                               keras.layers.Dense(16,activation=\"relu\"), # FC layer untuk bagian klasifikasi\n",
        "                               keras.layers.Dense(1,activation=\"sigmoid\")\n",
        "                               ])"
      ],
      "metadata": {
        "id": "CZhLzwbUSnk1"
      },
      "execution_count": null,
      "outputs": []
    },
    {
      "cell_type": "code",
      "source": [
        "model_data.compile(loss=\"binary_crossentropy\",metrics=[\"accuracy\"],optimizer=\"adam\")"
      ],
      "metadata": {
        "id": "b69Xq6JoSqWp"
      },
      "execution_count": null,
      "outputs": []
    },
    {
      "cell_type": "code",
      "source": [
        "history_semua_data = model_data.fit(X_train,y_train,validation_data=(X_val,y_val),epochs=10)"
      ],
      "metadata": {
        "colab": {
          "base_uri": "https://localhost:8080/"
        },
        "id": "GGxgwyyNStXl",
        "outputId": "1059e10d-17d0-4281-a985-67cfb972b41f"
      },
      "execution_count": null,
      "outputs": [
        {
          "output_type": "stream",
          "name": "stdout",
          "text": [
            "Epoch 1/10\n",
            "250/250 [==============================] - 105s 405ms/step - loss: 0.2530 - accuracy: 0.9179 - val_loss: 0.0302 - val_accuracy: 0.9930\n",
            "Epoch 2/10\n",
            "250/250 [==============================] - 101s 404ms/step - loss: 0.0071 - accuracy: 0.9985 - val_loss: 0.0137 - val_accuracy: 0.9945\n",
            "Epoch 3/10\n",
            "250/250 [==============================] - 102s 407ms/step - loss: 5.7401e-04 - accuracy: 1.0000 - val_loss: 0.0136 - val_accuracy: 0.9955\n",
            "Epoch 4/10\n",
            "250/250 [==============================] - 102s 407ms/step - loss: 1.6661e-04 - accuracy: 1.0000 - val_loss: 0.0146 - val_accuracy: 0.9955\n",
            "Epoch 5/10\n",
            "250/250 [==============================] - 101s 405ms/step - loss: 8.6600e-05 - accuracy: 1.0000 - val_loss: 0.0159 - val_accuracy: 0.9950\n",
            "Epoch 6/10\n",
            "250/250 [==============================] - 101s 402ms/step - loss: 5.0750e-05 - accuracy: 1.0000 - val_loss: 0.0171 - val_accuracy: 0.9945\n",
            "Epoch 7/10\n",
            "250/250 [==============================] - 102s 409ms/step - loss: 3.3611e-05 - accuracy: 1.0000 - val_loss: 0.0185 - val_accuracy: 0.9945\n",
            "Epoch 8/10\n",
            "250/250 [==============================] - 102s 407ms/step - loss: 2.3493e-05 - accuracy: 1.0000 - val_loss: 0.0183 - val_accuracy: 0.9950\n",
            "Epoch 9/10\n",
            "250/250 [==============================] - 102s 407ms/step - loss: 1.7025e-05 - accuracy: 1.0000 - val_loss: 0.0196 - val_accuracy: 0.9945\n",
            "Epoch 10/10\n",
            "250/250 [==============================] - 101s 403ms/step - loss: 1.2674e-05 - accuracy: 1.0000 - val_loss: 0.0198 - val_accuracy: 0.9945\n"
          ]
        }
      ]
    },
    {
      "cell_type": "code",
      "source": [
        "history_semua = pd.DataFrame(history_semua_data.history)\n",
        "plt.plot(history_semua.accuracy,label=\"Accuracy\")\n",
        "plt.plot(history_semua.val_accuracy,label=\"Val Accuracy\")\n",
        "plt.xlabel(\"Epochs\")\n",
        "plt.ylabel(\"Accuracy\")\n",
        "plt.legend()\n",
        "plt.grid(True)"
      ],
      "metadata": {
        "colab": {
          "base_uri": "https://localhost:8080/",
          "height": 279
        },
        "id": "12NR1E9KWO-6",
        "outputId": "4a98299f-ee82-42ae-a3e4-42a0edd9850f"
      },
      "execution_count": null,
      "outputs": [
        {
          "output_type": "display_data",
          "data": {
            "image/png": "[encoded data removed]",
            "text/plain": [
              "<Figure size 432x288 with 1 Axes>"
            ]
          },
          "metadata": {
            "needs_background": "light"
          }
        }
      ]
    },
    {
      "cell_type": "code",
      "source": [
        "plt.plot(history_semua.loss,label=\"Loss\")\n",
        "plt.plot(history_semua.val_loss,label=\"Val Loss\")\n",
        "plt.xlabel(\"Epochs\")\n",
        "plt.ylabel(\"Loss\")\n",
        "plt.legend()\n",
        "plt.grid(True)"
      ],
      "metadata": {
        "colab": {
          "base_uri": "https://localhost:8080/",
          "height": 279
        },
        "id": "85jOKJRAWndR",
        "outputId": "aef39418-57c3-462f-c5a9-53f8d6516edd"
      },
      "execution_count": null,
      "outputs": [
        {
          "output_type": "display_data",
          "data": {
            "image/png": "[encoded data removed]",
            "text/plain": [
              "<Figure size 432x288 with 1 Axes>"
            ]
          },
          "metadata": {
            "needs_background": "light"
          }
        }
      ]
    },
    {
      "cell_type": "markdown",
      "source": [
        "Klasifikasi"
      ],
      "metadata": {
        "id": "6EisH6ck6YYV"
      }
    },
    {
      "cell_type": "code",
      "source": [
        "def prediksi_judul(sentence,model):\n",
        "    sentence_seq = tokenizer.texts_to_sequences(sentence)\n",
        "    sentence_pad = keras.preprocessing.sequence.pad_sequences(sentence_seq,maxlen=max_len, padding=\"post\", truncating=\"post\")\n",
        "    prediksi = model.predict(sentence_pad)\n",
        "    # jika prediksi berita true lebih dari 0.5 maka muncul 1, jika kurang dari 0.5 muncul 0\n",
        "    if prediksi > 0.5:\n",
        "        predict = 1\n",
        "    else:\n",
        "        predict = 0\n",
        "    return predict"
      ],
      "metadata": {
        "id": "V5EWWBFlW831"
      },
      "execution_count": null,
      "outputs": []
    },
    {
      "cell_type": "code",
      "source": [
        "# kondisi : berita sepenuhnya true\n",
        "prediksi_judul([\"Singapore sees running autonomous buses on public roads from 2022.SINGAPORE (Reuters) - Singapore is hoping to deploy autonomous buses on public roads in three different districts of the city-state from 2022 to provide better connectivity, the country\"],model_data)"
      ],
      "metadata": {
        "colab": {
          "base_uri": "https://localhost:8080/"
        },
        "id": "5d-3vtk3XAiT",
        "outputId": "7fa12ad7-629a-4fe1-c5c3-de5a8e319959"
      },
      "execution_count": null,
      "outputs": [
        {
          "output_type": "execute_result",
          "data": {
            "text/plain": [
              "1"
            ]
          },
          "metadata": {},
          "execution_count": 54
        }
      ]
    },
    {
      "cell_type": "code",
      "source": [
        "# kondisi : berita sepenuhnya fake\n",
        "prediksi_judul([\"Heiress To Disney Empire Knows GOP Scammed Us – SHREDS Them For Tax Bill. Abigail Disney is an heiress with brass ovaries who will profit from the GOP tax scam bill\"],model_data)"
      ],
      "metadata": {
        "colab": {
          "base_uri": "https://localhost:8080/"
        },
        "id": "bngRs6oHiudD",
        "outputId": "493f91f5-59f5-48f3-ec39-13cb03184d78"
      },
      "execution_count": null,
      "outputs": [
        {
          "output_type": "execute_result",
          "data": {
            "text/plain": [
              "0"
            ]
          },
          "metadata": {},
          "execution_count": 55
        }
      ]
    },
    {
      "cell_type": "code",
      "source": [
        "# kondisi : true news kurang dari 0.5 atau 70% fake 30% true atau tercampur dengan berita fake\n",
        "prediksi_judul([\"Singapore sees running autonomous buses on public roads. Abigail Disney is an heiress with brass ovaries who will profit from the GOP tax scam bill but isn t into f-cking poor people over.\"],model_data) # Cek data salah maka hasilnya 1"
      ],
      "metadata": {
        "colab": {
          "base_uri": "https://localhost:8080/"
        },
        "outputId": "04593816-e644-4fbc-a375-49aa9cca785d",
        "id": "yCnMxTASiVp8"
      },
      "execution_count": null,
      "outputs": [
        {
          "output_type": "execute_result",
          "data": {
            "text/plain": [
              "0"
            ]
          },
          "metadata": {},
          "execution_count": 56
        }
      ]
    },
    {
      "cell_type": "code",
      "source": [
        "# kondisi : true news lebih dari 0.5 atau 70% true 30% fake atau tercampur berita fake\n",
        "prediksi_judul([\"Singapore sees running autonomous buses on public roads from 2022.SINGAPORE (Reuters) - Singapore is hoping to deploy autonomous. Heiress To Disney\"],model_data) # Cek data salah maka hasilnya 1"
      ],
      "metadata": {
        "colab": {
          "base_uri": "https://localhost:8080/"
        },
        "outputId": "e45b25bf-5644-4194-f94d-cad9d30ddb63",
        "id": "T3N4hUI_iVp-"
      },
      "execution_count": null,
      "outputs": [
        {
          "output_type": "execute_result",
          "data": {
            "text/plain": [
              "1"
            ]
          },
          "metadata": {},
          "execution_count": 58
        }
      ]
    }
  ]
}